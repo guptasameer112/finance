{
 "cells": [
  {
   "cell_type": "code",
   "execution_count": null,
   "metadata": {},
   "outputs": [],
   "source": [
    "import numpy as np\n",
    "import pandas as pd\n",
    "import requests\n",
    "import math \n",
    "from scipy import stats\n",
    "from statistics import mean\n",
    "import xlsxwriter\n",
    "\n",
    "from secret import IEX_CLOUD_API_TOKEN"
   ]
  },
  {
   "cell_type": "code",
   "execution_count": null,
   "metadata": {},
   "outputs": [],
   "source": [
    "stock_tickers = pd.read_csv('Data/sp_500_stocks.csv')\n",
    "stock_tickers"
   ]
  },
  {
   "cell_type": "code",
   "execution_count": null,
   "metadata": {},
   "outputs": [],
   "source": [
    "symbol = 'AAPL'\n",
    "api_base_url = f'https://cloud.iexapis.com/stable/stock/{symbol}/stats?token={IEX_CLOUD_API_TOKEN}'\n",
    "get_response = requests.get(api_base_url)\n",
    "stock_data = get_response.json()\n",
    "stock_data['year1ChangePercent']"
   ]
  },
  {
   "cell_type": "code",
   "execution_count": null,
   "metadata": {},
   "outputs": [],
   "source": [
    "def chunks(series, n):\n",
    "    for i in range(0, len(series), n):\n",
    "        yield series[i:i + n]\n",
    "\n",
    "symbol_sublists = list(chunks(stock_tickers['Ticker'], 100))\n",
    "symbol_sublists_tickers = []\n",
    "for i in range(0, len(symbol_sublists)):\n",
    "    symbol_sublists_tickers.append(','.join(symbol_sublists[i]))\n",
    "\n",
    "Dataframe_columns = ['Ticker', 'Price', 'One-Year Price Return', 'Number of Shares to Buy']\n",
    "Dataframe = pd.DataFrame(columns = Dataframe_columns)\n",
    "for symbol in symbol_sublists_tickers:\n",
    "    batch_api_call_url = f'https://cloud.iexapis.com/stable/stock/market/batch?symbols={symbol}&types=price,stats&token={IEX_CLOUD_API_TOKEN}'\n",
    "    stock_data = requests.get(batch_api_call_url).json()\n",
    "    for stock_ticker in symbol.split(','):\n",
    "        # Function 1\n",
    "        Dataframe = Dataframe.append(\n",
    "            pd.Series (\n",
    "                [\n",
    "                    stock_ticker,\n",
    "                    stock_data[stock_ticker]['price'],\n",
    "                    stock_data[stock_ticker]['stats']['year1ChangePercent'],\n",
    "                    'N/A'\n",
    "                ],\n",
    "                index = Dataframe_columns\n",
    "            ),\n",
    "            ignore_index = True\n",
    "        )\n",
    "\n",
    "Dataframe"
   ]
  },
  {
   "cell_type": "code",
   "execution_count": null,
   "metadata": {},
   "outputs": [],
   "source": [
    "# Function 2\n",
    "Dataframe.sort_values('One-Year Price Return', ascending = False, inplace = True)\n",
    "Dataframe = Dataframe[:50]\n",
    "Dataframe.reset_index(inplace = True)\n",
    "Dataframe"
   ]
  },
  {
   "cell_type": "code",
   "execution_count": null,
   "metadata": {},
   "outputs": [],
   "source": [
    "def portfolio_input():\n",
    "    global portfolio_size\n",
    "    portfolio_size = input('Enter the size of your portfolio: ')\n",
    "    try:\n",
    "        float(portfolio_size)\n",
    "    except ValueError:\n",
    "        print('Please enter an integer')\n",
    "        portfolio_size = input('Enter the size of your portfolio: ')\n",
    "\n",
    "portfolio_input()"
   ]
  },
  {
   "cell_type": "code",
   "execution_count": null,
   "metadata": {},
   "outputs": [],
   "source": [
    "position_size = float(portfolio_size) / len(Dataframe.index)\n",
    "for i in range(0, len(Dataframe.index)):\n",
    "    Dataframe.loc[i, 'Number of Shares to Buy'] = math.floor(position_size / Dataframe.loc[i, 'Price'])\n",
    "Dataframe"
   ]
  },
  {
   "cell_type": "code",
   "execution_count": null,
   "metadata": {},
   "outputs": [],
   "source": [
    "high_quality_momentum_columns = [\n",
    "    'Ticker',\n",
    "    'Price',\n",
    "    'Number of Shares to Buy',\n",
    "    'One-Year Price Return',\n",
    "    'One-Year Return Percentile',\n",
    "    'Six-Month Price Return',\n",
    "    'Six-Month Return Percentile',\n",
    "    'Three-Month Price Return',\n",
    "    'Three-Month Return Percentile',\n",
    "    'One-Month Price Return',\n",
    "    'One-Month Return Percentile',\n",
    "    'HQM Score'\n",
    "]\n",
    "\n",
    "high_quality_momentum_dataframe = pd.DataFrame(columns = high_quality_momentum_columns)\n",
    "\n",
    "for symbol in symbol_sublists_tickers:\n",
    "    batch_api_call_url = f'https://cloud.iexapis.com/stable/stock/market/batch?symbols={symbol}&types=price,stats&token={IEX_CLOUD_API_TOKEN}'\n",
    "    stock_data = requests.get(batch_api_call_url).json()\n",
    "    for stock_ticker in symbol.split(','):\n",
    "        high_quality_momentum_dataframe = high_quality_momentum_dataframe.append(\n",
    "            pd.Series (\n",
    "                [\n",
    "                    stock_ticker,\n",
    "                    stock_data[stock_ticker]['price'],\n",
    "                    'N/A',\n",
    "                    stock_data[stock_ticker]['stats']['year1ChangePercent'],\n",
    "                    'N/A',\n",
    "                    stock_data[stock_ticker]['stats']['month6ChangePercent'],\n",
    "                    'N/A',\n",
    "                    stock_data[stock_ticker]['stats']['month3ChangePercent'],\n",
    "                    'N/A',\n",
    "                    stock_data[stock_ticker]['stats']['month1ChangePercent'],\n",
    "                    'N/A',\n",
    "                    'N/A'\n",
    "                ],\n",
    "                index = high_quality_momentum_columns\n",
    "            ),\n",
    "            ignore_index = True\n",
    "        )\n",
    "    "
   ]
  },
  {
   "cell_type": "code",
   "execution_count": null,
   "metadata": {},
   "outputs": [],
   "source": [
    "time_periods = [\n",
    "    'One-Year',\n",
    "    'Six-Month',\n",
    "    'Three-Month',\n",
    "    'One-Month'\n",
    "]\n",
    "\n",
    "for row in high_quality_momentum_dataframe.index:\n",
    "    for time_period in time_periods:\n",
    "        high_quality_momentum_dataframe.loc[row, f'{time_period} Return Percentile'] = stats.percentileofscore(high_quality_momentum_dataframe[f'{time_period} Price Return'], high_quality_momentum_dataframe.loc[row, f'{time_period} Price Return']) / 100\n",
    "\n",
    "high_quality_momentum_dataframe"
   ]
  },
  {
   "cell_type": "code",
   "execution_count": null,
   "metadata": {},
   "outputs": [],
   "source": [
    "for row in high_quality_momentum_dataframe.index:\n",
    "    momentum_percentiles = []\n",
    "    for time_period in time_periods:\n",
    "        momentum_percentiles.append(high_quality_momentum_dataframe.loc[row, f'{time_period} Return Percentile'])\n",
    "    high_quality_momentum_dataframe.loc[row, 'HQM Score'] = mean(momentum_percentiles)\n",
    "\n",
    "high_quality_momentum_dataframe.sort_values('HQM Score', ascending = False, inplace = True)\n",
    "\n",
    "high_quality_momentum_dataframe"
   ]
  },
  {
   "cell_type": "code",
   "execution_count": null,
   "metadata": {},
   "outputs": [],
   "source": [
    "high_quality_momentum_dataframe = high_quality_momentum_dataframe[:50]\n",
    "high_quality_momentum_dataframe.reset_index(drop = True, inplace = True)\n",
    "high_quality_momentum_dataframe"
   ]
  },
  {
   "cell_type": "code",
   "execution_count": null,
   "metadata": {},
   "outputs": [],
   "source": [
    "portfolio_input()\n",
    "\n",
    "position_size = float(portfolio_size) / len(high_quality_momentum_dataframe.index)\n",
    "for i in range(0, len(high_quality_momentum_dataframe.index)):\n",
    "    high_quality_momentum_dataframe.loc[i, 'Number of Shares to Buy'] = math.floor(position_size / high_quality_momentum_dataframe.loc[i, 'Price'])\n",
    "high_quality_momentum_dataframe"
   ]
  },
  {
   "cell_type": "code",
   "execution_count": null,
   "metadata": {},
   "outputs": [],
   "source": [
    "writer = pd.ExcelWriter('momentum_strategy.xlsx', engine='xlsxwriter')\n",
    "high_quality_momentum_dataframe.to_excel(writer, sheet_name='Momentum Strategy', index = False)\n",
    "\n",
    "background_color = '#0a0a23'\n",
    "font_color = '#ffffff'\n",
    "\n",
    "string_format = writer.book.add_format(\n",
    "    {\n",
    "        'font_color': font_color,\n",
    "        'bg_color': background_color,\n",
    "        'border': 1\n",
    "    }\n",
    ")\n",
    "\n",
    "dollar_format = writer.book.add_format(\n",
    "    {\n",
    "        'num_format':'$0.00',\n",
    "        'font_color': font_color,\n",
    "        'bg_color': background_color,\n",
    "        'border': 1\n",
    "    }\n",
    ")\n",
    "\n",
    "integer_format = writer.book.add_format(\n",
    "    {\n",
    "        'num_format':'0',\n",
    "        'font_color': font_color,\n",
    "        'bg_color': background_color,\n",
    "        'border': 1\n",
    "    }\n",
    ")\n",
    "\n",
    "percent_format = writer.book.add_format(\n",
    "    {\n",
    "        'num_format':'0.0%',\n",
    "        'font_color': font_color,\n",
    "        'bg_color': background_color,\n",
    "        'border': 1\n",
    "    }\n",
    ")\n",
    "\n",
    "column_formats = {\n",
    "    'A': ['Ticker', string_format],\n",
    "    'B': ['Price', dollar_format],\n",
    "    'C': ['Number of Shares to Buy', integer_format],\n",
    "    'D': ['One-Year Price Return', percent_format],\n",
    "    'E': ['One-Year Return Percentile', percent_format],\n",
    "    'F': ['Six-Month Price Return', percent_format],\n",
    "    'G': ['Six-Month Return Percentile', percent_format],\n",
    "    'H': ['Three-Month Price Return', percent_format],\n",
    "    'I': ['Three-Month Return Percentile', percent_format],\n",
    "    'J': ['One-Month Price Return', percent_format],\n",
    "    'K': ['One-Month Return Percentile', percent_format],\n",
    "    'L': ['HQM Score', percent_format]\n",
    "}\n",
    "\n",
    "for column in column_formats.keys():\n",
    "    writer.sheets['Momentum Strategy'].set_column(f'{column}:{column}', 20, column_formats[column][1])\n",
    "    writer.sheets['Momentum Strategy'].write(f'{column}1', column_formats[column][0], string_format)\n"
   ]
  },
  {
   "cell_type": "code",
   "execution_count": null,
   "metadata": {},
   "outputs": [],
   "source": [
    "writer.save()"
   ]
  }
 ],
 "metadata": {
  "kernelspec": {
   "display_name": "Python 3",
   "language": "python",
   "name": "python3"
  },
  "language_info": {
   "codemirror_mode": {
    "name": "ipython",
    "version": 3
   },
   "file_extension": ".py",
   "mimetype": "text/x-python",
   "name": "python",
   "nbconvert_exporter": "python",
   "pygments_lexer": "ipython3",
   "version": "3.10.1"
  }
 },
 "nbformat": 4,
 "nbformat_minor": 2
}
